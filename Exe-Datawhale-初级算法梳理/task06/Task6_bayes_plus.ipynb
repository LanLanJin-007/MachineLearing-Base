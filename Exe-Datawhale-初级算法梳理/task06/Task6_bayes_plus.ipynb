{
 "cells": [
  {
   "cell_type": "markdown",
   "metadata": {},
   "source": [
    "## 知识点梳理\n",
    "1. 相关概念（生成模型、判别模型)\n",
    "2. 先验概率、条件概率\n",
    "3. 贝叶斯决策理论\n",
    "4. 贝叶斯定理公式\n",
    "5. 极值问题情况下的每个类的分类概率\n",
    "6. 下溢问题如何解决\n",
    "7. 零概率问题如何解决？\n",
    "8. 优缺点\n",
    "9. sklearn参数详解，Python绘制决策树\n"
   ]
  },
  {
   "cell_type": "markdown",
   "metadata": {},
   "source": [
    "### sklearn接口"
   ]
  },
  {
   "cell_type": "code",
   "execution_count": 1,
   "metadata": {
    "scrolled": false
   },
   "outputs": [
    {
     "name": "stdout",
     "output_type": "stream",
     "text": [
      "Classifier Score: 0.9333333333333333\n"
     ]
    }
   ],
   "source": [
    "from sklearn.naive_bayes import GaussianNB\n",
    "from sklearn.datasets import load_iris\n",
    "import pandas as pd\n",
    "from sklearn.model_selection import train_test_split\n",
    "iris = load_iris()\n",
    "X_train, X_test, y_train, y_test = train_test_split(iris.data, iris.target, test_size=0.2)\n",
    "clf = GaussianNB().fit(X_train, y_train)\n",
    "print (\"Classifier Score:\", clf.score(X_test, y_test))"
   ]
  },
  {
   "cell_type": "markdown",
   "metadata": {},
   "source": [
    "<table>\n",
    "<thead>\n",
    "<tr>\n",
    "  <th align=\"center\">编号</th>\n",
    "  <th align=\"center\">色泽</th>\n",
    "  <th align=\"center\">根蒂</th>\n",
    "  <th align=\"center\">敲声</th>\n",
    "  <th align=\"center\">纹理</th>\n",
    "  <th align=\"center\">脐部</th>\n",
    "  <th align=\"center\">触感</th>\n",
    "  <th align=\"center\">好瓜</th>\n",
    "</tr>\n",
    "</thead>\n",
    "<tbody><tr>\n",
    "  <td align=\"center\">1</td>\n",
    "  <td align=\"center\">青绿</td>\n",
    "  <td align=\"center\">蜷缩</td>\n",
    "  <td align=\"center\">浊响</td>\n",
    "  <td align=\"center\">清晰</td>\n",
    "  <td align=\"center\">凹陷</td>\n",
    "  <td align=\"center\">硬滑</td>\n",
    "  <td align=\"center\">是</td>\n",
    "</tr>\n",
    "<tr>\n",
    "  <td align=\"center\">2</td>\n",
    "  <td align=\"center\">乌黑</td>\n",
    "  <td align=\"center\">蜷缩</td>\n",
    "  <td align=\"center\">沉闷</td>\n",
    "  <td align=\"center\">清晰</td>\n",
    "  <td align=\"center\">凹陷</td>\n",
    "  <td align=\"center\">硬滑</td>\n",
    "  <td align=\"center\">是</td>\n",
    "</tr>\n",
    "<tr>\n",
    "  <td align=\"center\">3</td>\n",
    "  <td align=\"center\">乌黑</td>\n",
    "  <td align=\"center\">蜷缩</td>\n",
    "  <td align=\"center\">浊响</td>\n",
    "  <td align=\"center\">清晰</td>\n",
    "  <td align=\"center\">凹陷</td>\n",
    "  <td align=\"center\">硬滑</td>\n",
    "  <td align=\"center\">是</td>\n",
    "</tr>\n",
    "<tr>\n",
    "  <td align=\"center\">4</td>\n",
    "  <td align=\"center\">青绿</td>\n",
    "  <td align=\"center\">蜷缩</td>\n",
    "  <td align=\"center\">沉闷</td>\n",
    "  <td align=\"center\">清晰</td>\n",
    "  <td align=\"center\">凹陷</td>\n",
    "  <td align=\"center\">硬滑</td>\n",
    "  <td align=\"center\">是</td>\n",
    "</tr>\n",
    "<tr>\n",
    "  <td align=\"center\">5</td>\n",
    "  <td align=\"center\">浅白</td>\n",
    "  <td align=\"center\">蜷缩</td>\n",
    "  <td align=\"center\">浊响</td>\n",
    "  <td align=\"center\">清晰</td>\n",
    "  <td align=\"center\">凹陷</td>\n",
    "  <td align=\"center\">硬滑</td>\n",
    "  <td align=\"center\">是</td>\n",
    "</tr>\n",
    "<tr>\n",
    "  <td align=\"center\">6</td>\n",
    "  <td align=\"center\">青绿</td>\n",
    "  <td align=\"center\">稍蜷</td>\n",
    "  <td align=\"center\">浊响</td>\n",
    "  <td align=\"center\">清晰</td>\n",
    "  <td align=\"center\">稍凹</td>\n",
    "  <td align=\"center\">软粘</td>\n",
    "  <td align=\"center\">是</td>\n",
    "</tr>\n",
    "<tr>\n",
    "  <td align=\"center\">7</td>\n",
    "  <td align=\"center\">乌黑</td>\n",
    "  <td align=\"center\">稍蜷</td>\n",
    "  <td align=\"center\">浊响</td>\n",
    "  <td align=\"center\">稍糊</td>\n",
    "  <td align=\"center\">稍凹</td>\n",
    "  <td align=\"center\">软粘</td>\n",
    "  <td align=\"center\">是</td>\n",
    "</tr>\n",
    "<tr>\n",
    "  <td align=\"center\">8</td>\n",
    "  <td align=\"center\">乌黑</td>\n",
    "  <td align=\"center\">稍蜷</td>\n",
    "  <td align=\"center\">浊响</td>\n",
    "  <td align=\"center\">清晰</td>\n",
    "  <td align=\"center\">稍凹</td>\n",
    "  <td align=\"center\">硬滑</td>\n",
    "  <td align=\"center\">是</td>\n",
    "</tr>\n",
    "<tr>\n",
    "  <td align=\"center\">9</td>\n",
    "  <td align=\"center\">乌黑</td>\n",
    "  <td align=\"center\">稍蜷</td>\n",
    "  <td align=\"center\">沉闷</td>\n",
    "  <td align=\"center\">稍糊</td>\n",
    "  <td align=\"center\">稍凹</td>\n",
    "  <td align=\"center\">硬滑</td>\n",
    "  <td align=\"center\">否</td>\n",
    "</tr>\n",
    "<tr>\n",
    "  <td align=\"center\">10</td>\n",
    "  <td align=\"center\">青绿</td>\n",
    "  <td align=\"center\">硬挺</td>\n",
    "  <td align=\"center\">清脆</td>\n",
    "  <td align=\"center\">清晰</td>\n",
    "  <td align=\"center\">平坦</td>\n",
    "  <td align=\"center\">软粘</td>\n",
    "  <td align=\"center\">否</td>\n",
    "</tr>\n",
    "<tr>\n",
    "  <td align=\"center\">11</td>\n",
    "  <td align=\"center\">浅白</td>\n",
    "  <td align=\"center\">硬挺</td>\n",
    "  <td align=\"center\">清脆</td>\n",
    "  <td align=\"center\">模糊</td>\n",
    "  <td align=\"center\">平坦</td>\n",
    "  <td align=\"center\">硬滑</td>\n",
    "  <td align=\"center\">否</td>\n",
    "</tr>\n",
    "<tr>\n",
    "  <td align=\"center\">12</td>\n",
    "  <td align=\"center\">浅白</td>\n",
    "  <td align=\"center\">蜷缩</td>\n",
    "  <td align=\"center\">浊响</td>\n",
    "  <td align=\"center\">模糊</td>\n",
    "  <td align=\"center\">平坦</td>\n",
    "  <td align=\"center\">软粘</td>\n",
    "  <td align=\"center\">否</td>\n",
    "</tr>\n",
    "<tr>\n",
    "  <td align=\"center\">13</td>\n",
    "  <td align=\"center\">青绿</td>\n",
    "  <td align=\"center\">稍蜷</td>\n",
    "  <td align=\"center\">浊响</td>\n",
    "  <td align=\"center\">稍糊</td>\n",
    "  <td align=\"center\">凹陷</td>\n",
    "  <td align=\"center\">硬滑</td>\n",
    "  <td align=\"center\">否</td>\n",
    "</tr>\n",
    "<tr>\n",
    "  <td align=\"center\">14</td>\n",
    "  <td align=\"center\">浅白</td>\n",
    "  <td align=\"center\">稍蜷</td>\n",
    "  <td align=\"center\">沉闷</td>\n",
    "  <td align=\"center\">稍糊</td>\n",
    "  <td align=\"center\">凹陷</td>\n",
    "  <td align=\"center\">硬滑</td>\n",
    "  <td align=\"center\">否</td>\n",
    "</tr>\n",
    "<tr>\n",
    "  <td align=\"center\">15</td>\n",
    "  <td align=\"center\">乌黑</td>\n",
    "  <td align=\"center\">稍蜷</td>\n",
    "  <td align=\"center\">浊响</td>\n",
    "  <td align=\"center\">清晰</td>\n",
    "  <td align=\"center\">稍凹</td>\n",
    "  <td align=\"center\">软粘</td>\n",
    "  <td align=\"center\">否</td>\n",
    "</tr>\n",
    "<tr>\n",
    "  <td align=\"center\">16</td>\n",
    "  <td align=\"center\">浅白</td>\n",
    "  <td align=\"center\">蜷缩</td>\n",
    "  <td align=\"center\">浊响</td>\n",
    "  <td align=\"center\">模糊</td>\n",
    "  <td align=\"center\">平坦</td>\n",
    "  <td align=\"center\">硬滑</td>\n",
    "  <td align=\"center\">否</td>\n",
    "</tr>\n",
    "<tr>\n",
    "  <td align=\"center\">17</td>\n",
    "  <td align=\"center\">青绿</td>\n",
    "  <td align=\"center\">蜷缩</td>\n",
    "  <td align=\"center\">沉闷</td>\n",
    "  <td align=\"center\">稍糊</td>\n",
    "  <td align=\"center\">稍凹</td>\n",
    "  <td align=\"center\">硬滑</td>\n",
    "  <td align=\"center\">否</td>\n",
    "</tr>\n",
    "</tbody></table>"
   ]
  },
  {
   "cell_type": "markdown",
   "metadata": {},
   "source": [
    "\n",
    "### 1. 相关概念\n",
    "\n",
    "生成模型：在概率统计理论中, 生成模型是指能够随机生成观测数据的模型，尤其是在给定某些隐含参数的条件下。它给观测值和标注数据序列指定一个联合概率分布。在机器学习中，生成模型可以用来直接对数据建模（例如根据某个变量的概率密度函数进行数据采样），也可以用来建立变量间的条件概率分布。条件概率分布可以由生成模型根据贝叶斯定理形成。常见的基于生成模型算法有高斯混合模型和其他混合模型、隐马尔可夫模型、随机上下文无关文法、朴素贝叶斯分类器、AODE分类器、潜在狄利克雷分配模型、受限玻尔兹曼机  \n",
    "<br>\n",
    "举例：要确定一个瓜是好瓜还是坏瓜，用判别模型的方法是从历史数据中学习到模型，然后通过提取这个瓜的特征来预测出这只瓜是好瓜的概率，是坏瓜的概率。\n",
    "\n",
    "<br>\n",
    "判别模型: 在机器学习领域判别模型是一种对未知数据 y 与已知数据 x 之间关系进行建模的方法。判别模型是一种基于概率理论的方法。已知输入变量 x ，判别模型通过构建条件概率分布 P(y|x) 预测 y 。常见的基于判别模型算法有逻辑回归、线性回归、支持向量机、提升方法、条件随机场、人工神经网络、随机森林、感知器\n",
    "\n",
    "举例：利用生成模型是根据好瓜的特征首先学习出一个好瓜的模型，然后根据坏瓜的特征学习得到一个坏瓜的模型，然后从需要预测的瓜中提取特征，放到生成好的好瓜的模型中看概率是多少，在放到生产的坏瓜模型中看概率是多少，哪个概率大就预测其为哪个。\n",
    "\n",
    "<br>\n",
    "生成模型是所有变量的全概率模型，而判别模型是在给定观测变量值前提下目标变量条件概率模型。因此生成模型能够用于模拟（即生成）模型中任意变量的分布情况，而判别模型只能根据观测变量得到目标变量的采样。判别模型不对观测变量的分布建模，因此它不能够表达观测变量与目标变量之间更复杂的关系。因此，生成模型更适用于无监督的任务，如分类和聚类。"
   ]
  },
  {
   "cell_type": "markdown",
   "metadata": {},
   "source": [
    "### 2. 先验概率、条件概率\n",
    "条件概率: 就是事件A在事件B发生的条件下发生的概率。条件概率表示为P（A|B），读作“A在B发生的条件下发生的概率”。\n",
    "\n",
    "<br>\n",
    "先验概率: 在贝叶斯统计中，某一不确定量 p 的先验概率分布是在考虑\"观测数据\"前，能表达 p 不确定性的概率分布。它旨在描述这个不确定量的不确定程度，而不是这个不确定量的随机性。这个不确定量可以是一个参数，或者是一个隐含变量。\n",
    "\n",
    "<br>\n",
    "后验概率: 在贝叶斯统计中，一个随机事件或者一个不确定事件的后验概率是在考虑和给出相关证据或数据后所得到的条件概率。同样，后验概率分布是一个未知量（视为随机变量）基于试验和调查后得到的概率分布。“后验”在本文中代表考虑了被测试事件的相关证据。\n",
    "<br>\n",
    "\n",
    "通过上述西瓜的数据集来看\n",
    "\n",
    "条件概率，就是在条件为瓜的颜色是青绿的情况下，瓜是好瓜的概率\n",
    "\n",
    "先验概率，就是常识、经验、统计学所透露出的“因”的概率，即瓜的颜色是青绿的概率。\n",
    "\n",
    "后验概率，就是在知道“果”之后，去推测“因”的概率，也就是说，如果已经知道瓜是好瓜，那么瓜的颜色是青绿的概率是多少。后验和先验的关系就需要运用贝叶斯决策理论来求解。"
   ]
  },
  {
   "cell_type": "markdown",
   "metadata": {},
   "source": [
    "### 3. 贝叶斯决策理论\n",
    "贝叶斯决策论是概率框架下实施决策的基本方法，对分类任务来说，在所有相关概率都已知的理想情形下，贝叶斯决策论考虑如何基于这些概率和误判损失来选择最优的类别标记。\n",
    "\n",
    "假设有N种可能标记， $λ_{ij}$是将类$c_j$误分类为$c_i$所产生的损失，基于后验概率$ P(c_i | x)$ 可以获得样本x分类为$c_i$所产生的期望损失 ，即在样本x上的条件风险：\n",
    "\n",
    "$$R(c_i|\\mathbf{x}) = \\sum_{j=1}^N \\lambda_{ij} P(c_j|\\mathbf{x})$$\n",
    "我们的任务是寻找一个判定准则 $h:X→Y$以最小化总体风险\n",
    "\n",
    "$$R(h)= \\mathbb{E}_x [R(h(\\mathbf(x)) | \\mathbf(x))]$$\n",
    "\n",
    "显然，对每个样本x，若h能最小化条件风险 $R(h((x))|(x))$,则总体风险R(h)也将被最小化。这就产生了贝叶斯判定准则：为最小化总体风险，只需要在每个样本上选择那个能使条件风险R(c|x)最小的类别标记，即：\n",
    "\n",
    "$$h^* (x) = argmin_{c\\in y} R(c|\\mathbf{x})$$\n",
    "此时，h 称作贝叶斯最优分类器，与之对应的总体风险R(h )称为贝叶斯风险，1-R(h*)反映了分类器能达到的最好性能，即机器学习所产生的模型精度的上限。\n",
    "\n",
    "具体来说，若目标是最小化分类错误率（对应0/1损失），则$λ_{ij}$可以用0/1损失改写，得到条件风险和最小化分类错误率的最优分类器分别为：\n",
    "$$R(c|\\mathbf{x}) = 1- P(c|\\mathbf{x})$$\n",
    "\n",
    "$$h^*(x) = argmax_{c\\in \\mathcal{Y}} P(c|\\mathbf{x})$$\n",
    "\n",
    "即对每个样本x，选择能使后验概率P(c|x)最大的类别标识。\n",
    "\n",
    "获得后验概率的两种方法：\n",
    "\n",
    "1. 判别式模型:给定x，可以通过直接建模P(c|x)来预测c。\n",
    "2. 生成模型:先对联合分布p(x, c)建模，然后再有此获得P(c|x)。"
   ]
  },
  {
   "cell_type": "markdown",
   "metadata": {},
   "source": [
    "### 4. 贝叶斯公式\n",
    "对生成模型来说，必然考虑：\n",
    "$$P(c|x) = \\frac{P(x,c)}{P(x)} = \\frac{P(c) P(x|c)}{P(x)}$$\n",
    "其中P(c)是“先验概率”；\n",
    "\n",
    "P(x|c)是样本x对于类标记c的类条件概率，或称为“似然”；\n",
    "\n",
    "P(x)是用于归一化的“证据”因子。\n",
    "\n",
    "上式即为贝叶斯公式。\n",
    "\n",
    "可以将其看做$$P(类别|特征) = \\frac{P(特征,类别)}{P(特征)} = \\frac{P(类别) P(特征|类别)}{P(特征)}$$\n",
    "\n",
    "对类条件概率P(x|c)来说，直接根据样本出现的频率来估计将会遇到严重的困难，所以引入了极大似然估计。"
   ]
  },
  {
   "cell_type": "markdown",
   "metadata": {},
   "source": [
    "#### 极大似然估计\n",
    "估计类条件概率有一种常用的策略就是先假定其具有某种确定的概率分布形式，再基于训练样本对概率分布的参数进行估计。假设P(x|c)具有某种确定的形式并且被参数$θ_c$ 唯一确定，则我们的任务就是利用训练结D估计参数 $θ_c$。为了明确期间，我们将P(x|c)记为$p(x|θc)$.\n",
    "\n",
    "举个通俗的例子：假设一个袋子装有白球与红球，比例未知，现在抽取10次（每次抽完都放回，保证事件独立性），假设抽到了7次白球和3次红球，在此数据样本条件下，可以采用最大似然估计法求解袋子中白球的比例（最大似然估计是一种“模型已定，参数未知”的方法）。当然，这种数据情况下很明显，白球的比例是70%，但如何通过理论的方法得到这个答案呢？一些复杂的条件下，是很难通过直观的方式获得答案的，这时候理论分析就尤为重要了，这也是学者们为何要提出最大似然估计的原因。我们可以定义从袋子中抽取白球和红球的概率如下：\n",
    "![image.png](attachment:image.png)\n",
    "\n",
    "x1为第一次采样，x2为第二次采样，f为模型, theta为模型参数"
   ]
  },
  {
   "cell_type": "markdown",
   "metadata": {},
   "source": [
    "其中$\\theta$是未知的，因此，我们定义似然L为：\n",
    "![image.png](attachment:image.png)\n",
    "L为似然的符号"
   ]
  },
  {
   "cell_type": "markdown",
   "metadata": {},
   "source": [
    "两边取ln，取ln是为了将右边的乘号变为加号，方便求导。\n",
    "![image.png](attachment:image.png)\n",
    "两边取ln的结果，左边的通常称之为对数似然。"
   ]
  },
  {
   "cell_type": "markdown",
   "metadata": {},
   "source": [
    "![image.png](attachment:image.png)这是平均对数似然"
   ]
  },
  {
   "cell_type": "markdown",
   "metadata": {},
   "source": [
    "最大似然估计的过程，就是找一个合适的theta，使得平均对数似然的值为最大。因此，可以得到以下公式：\n",
    "![image.png](attachment:image.png)最大似然估计的公式"
   ]
  },
  {
   "cell_type": "markdown",
   "metadata": {},
   "source": [
    "这里讨论的是2次采样的情况，当然也可以拓展到多次采样的情况：\n",
    "![image.png](attachment:image.png)\n",
    "最大似然估计的公式（n次采样）"
   ]
  },
  {
   "cell_type": "markdown",
   "metadata": {},
   "source": [
    "我们定义M为模型（也就是之前公式中的f），表示抽到白球的概率为theta，而抽到红球的概率为(1-theta)，因此10次抽取抽到白球7次的概率可以表示为：\n",
    "![image.png](attachment:image.png)\n",
    "10次抽取抽到白球7次的概率"
   ]
  },
  {
   "cell_type": "markdown",
   "metadata": {},
   "source": [
    "将其描述为平均似然可得：\n",
    "![image.png](attachment:image.png)10次抽取抽到白球7次的平均对数似然，抽球的情况比较简单，可以直接用平均似然来求解"
   ]
  },
  {
   "cell_type": "markdown",
   "metadata": {},
   "source": [
    "那么最大似然就是找到一个合适的theta，获得最大的平均似然。因此我们可以对平均似然的公式对theta求导，并另导数为0。\n",
    "![image.png](attachment:image.png)\n",
    "求导过程\n",
    "由此可得，当抽取白球的概率为0.7时，最可能产生10次抽取抽到白球7次的事件。"
   ]
  },
  {
   "cell_type": "markdown",
   "metadata": {},
   "source": [
    "以上就用到了最大似然估计的思想\n",
    "\n",
    "令Dc表示训练集D中第c类样本组成的集合，假设这些集合是独立同分布的，则对参数θcθc对于数据集Dc的似然是:\n",
    "\n",
    "$$P(D_c|\\theta_c) = \\prod P(\\mathbf{x}|\\theta_c)$$\n",
    "对$θ_c$进行激发似然估计买就是去寻找能最大化似然函数的参数值$θ_c$.直观上，极大似然估计是在试图在$θ_c$的所有可能的去职中，找到一个能使数据出现最大“可能性”的最大值。\n",
    "\n",
    "上面的式子中的连乘操作容易造成下溢，通常使用对数似然：\n",
    "$$L(\\theta_c) = \\log P(D_c| \\theta_c) = \\sum_{x\\in D_c} \\log P(x|\\theta_c)$$\n",
    "此时，参数$θ_c$的极大似然估计$\\hat{\\theta_c}$为\n",
    "$\\hat{\\theta_c} = argmax_{\\theta_c} LL(\\theta_c)$\n",
    "例如，在连续属性的情形下，假设概率密度函数$p(x|c) \\sim \\mathcal{N}(\\mu_c , \\sigma^2)$,则参数$μ_c$和$σ_2$的极大似然估计为：\n",
    "$\\hat{\\mu_c} = \\frac{1}{|D_c|} \\sum_{x\\in D_c} x$\n",
    "$\\hat{\\sigma_c}^2 = \\frac{1}{|D_c|} \\sum_{x\\in D_c} (x-\\hat{\\mu_c} )(x-\\hat{\\mu_c} ^T)$\n",
    "也就是说通过极大似然发得到的额正态分布均值就是样本均值，方差就是$(x-\\hat{\\mu_c} )(x-\\hat{\\mu_c} ^T)$的均值。这显然是一个符合只觉得结果，在离散属性情形下，也可以通过类似的方法来估计类条件概率。\n",
    "\n",
    "需要注意的是这种方法虽然能够使类条件概率估计变得简单，但是估计结果准确性严重依赖于所假设的概率分布形式是否符合潜在的真实数据分布。在显示生活中往往需要应用任务本身的经验知识，“猜测”则会导致误导性的结果。"
   ]
  },
  {
   "cell_type": "markdown",
   "metadata": {},
   "source": [
    "贝叶斯分类器的训练过程就是参数估计。总结最大似然法估计参数的过程，一般分为以下四个步骤：\n",
    "```\n",
    "1.写出似然函数；\n",
    "2.对似然函数取对数，并整理；\n",
    "3.求导数，令偏导数为0，得到似然方程组；\n",
    "4.解似然方程组，得到所有参数即为所求。\n",
    "```"
   ]
  },
  {
   "cell_type": "markdown",
   "metadata": {},
   "source": [
    "#### 朴素贝叶斯分类器\n",
    "基于贝叶斯公式来估计后验概率P(c|x)主要困难在于类条件概率P(x|c)是所有属性上的联合概率，难以从有限的训练样本直接估计而得。\n",
    "基于有限训练样本直接计算联合概率，在计算上将会遭遇组合爆炸问题；在数据上将会遭遇样本稀疏问题；属性越多，问题越严重。\n",
    "\n",
    "为了避开这个障碍，朴素贝叶斯分类器采用了$“属性条件独立性假设”$:对已知类别，假设所有属性相互独立。换言之，假设每个属性独立的对分类结果发生影响相互独立。\n",
    "\n",
    "回答西瓜的例子就可以认为｛色泽\t根蒂\t敲声\t纹理\t脐部\t触感｝这些属性对西瓜是好还是坏的结果所产生的影响相互独立。\n",
    "\n",
    "基于条件独立性假设，对于多个属性的后验概率可以写成：\n",
    "$$P(c|\\mathbf{x}) = \\frac{P(C)P(\\mathbf{x}|c)}{P(\\mathbf{x})} = \\frac{P(c)}{P(\\mathbf{x})}\\prod_{i=1}^d P(x_i|c)$$\n",
    "\n",
    "d为属性数目，$x_i$是x在第i个属性上取值。\n",
    "对于所有的类别来说P(x)相同，基于极大似然的贝叶斯判定准则有朴素贝叶斯的表达式：\n",
    "$$h_{nb}(\\mathbf{x}) = \\arg max_{c\\in \\mathcal{Y}}P(c)\\prod_{i=1}^d P(x_i|c) \\quad (1)$$\n",
    "\n"
   ]
  },
  {
   "cell_type": "markdown",
   "metadata": {},
   "source": [
    "### 5. 极值问题情况下的每个类的分类概率\n",
    "极值问题\n",
    "\n",
    "很多时候遇到求出各种目标函数（object function）的最值问题（最大值或者最小值）。关于函数最值问题，其实在高中的时候我们就已经了解不少，最经典的方法就是：直接求出极值点。这些极值点的梯度为0。若极值点唯一，则这个点就是代入函数得出的就是最值；若极值点不唯一，那么这些点中，必定存在最小值或者最大值（去除函数的左右的最端点），所以把极值代入函数，经对比后可得到结果。\n",
    "\n",
    "请注意：并不一定所有函数的极值都可以通过设置导数为0的方式求 出。也就是说，有些问题中当我们设定导数为0时，未必能直接计算出满足导数为0的点（比如逻辑回归模型），这时候就需要利用数值计算相关的技术（最典型为梯度下降法，牛顿法……）。"
   ]
  },
  {
   "cell_type": "markdown",
   "metadata": {},
   "source": [
    "### 6. 下溢问题如何解决\n",
    "数值下溢问题：是指计算机浮点数计算的结果小于可以表示的最小数，因为计算机的能力有限，当数值小于一定数时，其无法精确保存，会造成数值的精度丢失，由上述公式可以看到，求概率时多个概率值相乘，得到的结果往往非常小；因此通常采用取对数的方式，将连乘转化为连加，以避免数值下溢。"
   ]
  },
  {
   "cell_type": "markdown",
   "metadata": {},
   "source": [
    "### 7. 零概率问题如何解决？\n",
    "零概率问题，就是在计算实例的概率时，如果某个量x，在观察样本库（训练集）中没有出现过，会导致整个实例的概率结果是0.\n",
    "\n",
    "在实际的模型训练过程中，可能会出现零概率问题（因为先验概率和反条件概率是根据训练样本算的，但训练样本数量不是无限的，所以可能出现有的情况在实际中存在，但在训练样本中没有，导致为0的概率值，影响后面后验概率的计算），即便可以继续增加训练数据量，但对于有些问题来说，数据怎么增多也是不够的。这时我们说模型是不平滑的，我们要使之平滑，一种方法就是将训练（学习）的方法换成贝叶斯估计。\n",
    "\n",
    "现在看一个示例，及$P(敲声=清脆|好瓜=是)=\\frac{8}{0}=0$\n",
    "不论样本的其他属性如何，分类结果都会为“好瓜=否”，这样显然不太合理。\n",
    "\n",
    "朴素贝叶斯算法的先天缺陷：其他属性携带的信息被训练集中某个分类下未出现的属性值“抹去”，造成预测出来的概率绝对为0。为了拟补这一缺陷，前辈们引入了拉普拉斯平滑的方法：对先验概率的分子(划分的计数)加1，分母加上类别数；对条件概率分子加1，分母加上对应特征的可能取值数量。这样在解决零概率问题的同时，也保证了概率和依然为1：\n",
    "$$P(c) = \\frac{{|{D_c}|}}{{|D|}} \\to P(c) = \\frac{{|{D_c}| + 1}}{{|D| + N}}$$\n",
    "$$P({x_i}|c) = \\frac{{|{D_{{x_i}|c}}|}}{{|{D_c}|}} \\to P({x_i}|c) = \\frac{{|{D_{{x_i}|c}}| + 1}}{{|{D_c}| + {N_i}}}$$\n",
    "\n",
    "其中，N表示数据集中分类标签，$N_i$表示第$i$个属性的取值类别数，|D|样本容量，$|D_c|$表示类别c的记录数量，${|{D_{{x_i}|c}}|}$表示类别c中第i个属性取值为$x_i$的记录数量。\n",
    "\n",
    "将这两个式子应用到上面的计算过程中，就可以弥补朴素贝叶斯算法的这一缺陷问题。"
   ]
  },
  {
   "cell_type": "markdown",
   "metadata": {},
   "source": [
    "用西瓜的数据来看，当我们计算\n",
    "\n",
    "P(好瓜=是)时，样本有17个，所以|D| = 17，N，好瓜标签可以分为｛是，否｝两类，所以N=2，（好瓜=是）的样本个数有8个，所以这里$|D_c|$=8。\n",
    "\n",
    "综上，根据拉普拉斯平滑后有 $$P(好瓜=是) = \\frac{{|{D_c}| + 1}}{{|D| + N}} = \\frac{{|{8}| + 1}}{{|17| + 2}}$$\n",
    "P（色泽=青绿|好瓜=是）时，色泽青绿的样本有8个，所以|D_c| = 8，N，色泽标签可以分为｛青绿，浅白，乌黑｝三类，所以N=3，（好瓜=是）的样本个数有3个，所以这里$|D_{c,x_i}|$=3。\n",
    "综上，根据拉普拉斯平滑后有$$P（色泽=青绿|好瓜=是）= \\frac{{|{D_{{x_i}|c}}| + 1}}{{|{D_c}| + {N_i}}}=\\frac{{|{3}}| + 1}{{|{8}| + {3}}}$$\n",
    "同理，分析可知，之前不合理的$P(敲声=清脆|好瓜=是)=\\frac{8}{0}=0$在进行拉普拉斯平滑后为$$ P(敲声=清脆|好瓜=是)= \\frac{{|{D_{{x_i}|c}}| + 1}}{{|{D_c}| + {N_i}}}=\\frac{{|{0}}| + 1}{{|{8}| + {3}}}$$显然结果不是0，使结果变得合理。"
   ]
  },
  {
   "cell_type": "markdown",
   "metadata": {},
   "source": [
    "### 8. sklearn参数详解\n",
    "1. 高斯朴素贝叶斯算法是假设特征的可能性(即概率)为高斯分布。\n",
    "```\n",
    "class sklearn.naive_bayes.GaussianNB(priors=None)\n",
    "参数：\n",
    "priors:先验概率大小，如果没有给定，模型则根据样本数据自己计算（利用极大似然法）。\n",
    "var_smoothing：可选参数，所有特征的最大方差\n",
    "属性：\n",
    "class_prior_:每个样本的概率\n",
    "class_count:每个类别的样本数量\n",
    "classes_:分类器已知的标签类型\n",
    "theta_:每个类别中每个特征的均值\n",
    "sigma_:每个类别中每个特征的方差\n",
    "epsilon_:方差的绝对加值方法\n",
    "# 贝叶斯的方法和其他模型的方法一致。\n",
    "fit(X,Y):在数据集(X,Y)上拟合模型。\n",
    "get_params():获取模型参数。\n",
    "predict(X):对数据集X进行预测。\n",
    "predict_log_proba(X):对数据集X预测，得到每个类别的概率对数值。predict_proba(X):对数据集X预测，得到每个类别的概率。\n",
    "score(X,Y):得到模型在数据集(X,Y)的得分情况。\n",
    "```"
   ]
  },
  {
   "cell_type": "markdown",
   "metadata": {},
   "source": [
    "根据李航老师的代码构建自己的朴素贝叶斯模型\n",
    "\n",
    "这里采用GaussianNB 高斯朴素贝叶斯,概率密度函数为\n",
    "$$P(x_{i}|y_{k}) = \\frac{1}{\\sqrt{2\\pi\\sigma_{y_{k}}^{2}}}exp( -\\frac{(x_{i}-\\mu_{y_{k}})^2}  {2\\sigma_{y_{k}}^{2}}   )$$\n",
    "数学期望：$\\mu$\n",
    "方差：$\\sigma ^2=\\frac{1}{n}\\sum_i^n(x_i-\\overline x)^2$\n",
    "\n",
    "https://github.com/fengdu78/lihang-code/blob/master/%E7%AC%AC04%E7%AB%A0%20%E6%9C%B4%E7%B4%A0%E8%B4%9D%E5%8F%B6%E6%96%AF/4.NaiveBayes.ipynb"
   ]
  },
  {
   "cell_type": "code",
   "execution_count": 2,
   "metadata": {},
   "outputs": [],
   "source": [
    "#导入我们还需要的库\n",
    "import numpy as np\n",
    "import pandas as pd\n",
    "import math"
   ]
  },
  {
   "cell_type": "code",
   "execution_count": 3,
   "metadata": {},
   "outputs": [],
   "source": [
    "import math\n",
    "class NaiveBayes:\n",
    "    def __init__(self):\n",
    "        self.model = None\n",
    "\n",
    "    # 数学期望\n",
    "    @staticmethod\n",
    "    def mean(X):\n",
    "        \"\"\"计算均值\n",
    "        Param: X : list or np.ndarray\n",
    "        \n",
    "        Return:\n",
    "            avg : float\n",
    "        \n",
    "        \"\"\"\n",
    "        avg = 0.0\n",
    "        # ========= show me your code ==================\n",
    "        \n",
    "        avg = np.mean(X)\n",
    "        \n",
    "        # ========= show me your code ==================\n",
    "        return avg\n",
    "\n",
    "    # 标准差（方差）\n",
    "    def stdev(self, X):\n",
    "        \"\"\"计算标准差\n",
    "        Param: X : list or np.ndarray\n",
    "        \n",
    "        Return:\n",
    "            res : float\n",
    "        \n",
    "        \"\"\"\n",
    "        res = 0.0\n",
    "        # ========= show me your code ==================\n",
    "        avg = self.mean(X)\n",
    "        res = math.sqrt( np.sum([(X - avg) ** 2 for x in X]) ) / len(X)        \n",
    "        # ========= show me your code ==================\n",
    "        return res\n",
    "        \n",
    "    # 概率密度函数\n",
    "    def gaussian_probability(self, x, mean, stdev):\n",
    "        \"\"\"根据均值和标注差计算x符号该高斯分布的概率\n",
    "        Parameters:\n",
    "        ----------\n",
    "        x : 输入\n",
    "        mean : 均值\n",
    "        stdev : 标准差\n",
    "        \n",
    "        Return:\n",
    "        \n",
    "        res : float， x符合的概率值\n",
    "            \n",
    "        \"\"\"\n",
    "        res = 0.0\n",
    "        # ========= show me your code ==================\n",
    "        right_equation = math.exp(-1 * ( math.pow(x - mean, 2) / (2 * math.pow(stdev, 2))))\n",
    "        res = (1 / (math.sqrt(2 * math.pi) * stdev)) * right_equation\n",
    "        # ========= show me your code ==================\n",
    "        \n",
    "        return res\n",
    "        \n",
    "    # 处理X_train\n",
    "    def summarize(self, train_data):\n",
    "        \"\"\"计算每个类目下对应数据的均值和标准差\n",
    "        Param: train_data : list\n",
    "        \n",
    "        Return : [mean, stdev]\n",
    "        \"\"\"\n",
    "        summaries = [0.0, 0.0]\n",
    "        # ========= show me your code ==================\n",
    "        # zip() 函数用于将可迭代的对象作为参数,将对象中对应的元素打包成一个个元组,然后返回由这些元组组成的列表\n",
    "        # *zipped 可理解为解压\n",
    "        summaries = [(self.mean(x), self.stdev(x)) for x in zip(*train_data)]\n",
    "        # ========= show me your code ==================\n",
    "        return summaries\n",
    "\n",
    "    # 分类别求出数学期望和标准差\n",
    "    def fit(self, X, y):\n",
    "        labels = list(set(y))\n",
    "        data = {label: [] for label in labels}\n",
    "        for f, label in zip(X, y):\n",
    "            data[label].append(f)\n",
    "        self.model = {\n",
    "            label: self.summarize(value) for label, value in data.items()\n",
    "        }\n",
    "        return 'gaussianNB train done!'\n",
    "\n",
    "    # 计算概率\n",
    "    def calculate_probabilities(self, input_data):\n",
    "        \"\"\"计算数据在各个高斯分布下的概率\n",
    "        Paramter:\n",
    "        input_data : 输入数据\n",
    "        \n",
    "        Return:\n",
    "        probabilities : {label : p}\n",
    "        \"\"\"\n",
    "        # summaries:{0.0: [(5.0, 0.37),(3.42, 0.40)], 1.0: [(5.8, 0.449),(2.7, 0.27)]}\n",
    "        # input_data:[1.1, 2.2]\n",
    "        probabilities = {}\n",
    "        # ========= show me your code ==================\n",
    "        for label, value in self.model.items():\n",
    "            probabilities[label] = 1\n",
    "            for i in range(len(value)):\n",
    "                probabilities[label] *= self.gaussian_probability(input_data[i], value[i][0], value[i][1])\n",
    "        # ========= show me your code ==================\n",
    "        return probabilities\n",
    "\n",
    "    # 类别\n",
    "    def predict(self, X_test):\n",
    "        # {0.0: 2.9680340789325763e-27, 1.0: 3.5749783019849535e-26}\n",
    "        label = sorted(self.calculate_probabilities(X_test).items(), key=lambda x: x[-1])[-1][0]\n",
    "        return label\n",
    "    # 计算得分\n",
    "    def score(self, X_test, y_test):\n",
    "        right = 0\n",
    "        for X, y in zip(X_test, y_test):\n",
    "            label = self.predict(X)\n",
    "            if label == y:\n",
    "                right += 1\n",
    "        return right / float(len(X_test))"
   ]
  },
  {
   "cell_type": "code",
   "execution_count": 4,
   "metadata": {},
   "outputs": [],
   "source": [
    "model = NaiveBayes()"
   ]
  },
  {
   "cell_type": "code",
   "execution_count": 5,
   "metadata": {},
   "outputs": [
    {
     "data": {
      "text/plain": [
       "'gaussianNB train done!'"
      ]
     },
     "execution_count": 5,
     "metadata": {},
     "output_type": "execute_result"
    }
   ],
   "source": [
    "model.fit(X_train, y_train)"
   ]
  },
  {
   "cell_type": "code",
   "execution_count": 6,
   "metadata": {},
   "outputs": [
    {
     "name": "stdout",
     "output_type": "stream",
     "text": [
      "0\n"
     ]
    }
   ],
   "source": [
    "print(model.predict([4.4,  3.2,  1.3,  0.2]))"
   ]
  },
  {
   "cell_type": "code",
   "execution_count": 7,
   "metadata": {},
   "outputs": [
    {
     "data": {
      "text/plain": [
       "0.9333333333333333"
      ]
     },
     "execution_count": 7,
     "metadata": {},
     "output_type": "execute_result"
    }
   ],
   "source": [
    "model.score(X_test, y_test)"
   ]
  },
  {
   "cell_type": "markdown",
   "metadata": {},
   "source": [
    "### 9. 优缺点\n",
    "优点\n",
    "1. 朴素贝叶斯模型有稳定的分类效率。\n",
    "2. 对小规模的数据表现很好，能处理多分类任务，适合增量式训练，尤其是数据量超出内存时，可以一批批的去增量训练。\n",
    "3. 对缺失数据不太敏感，算法也比较简单，常用于文本分类。\n",
    "\n",
    "缺点:\n",
    "1. 理论上，朴素贝叶斯模型与其他分类方法相比具有最小的误差率。但是实际上并非总是如此，这是因为朴素贝叶斯模型给定输出类别的情况下,假设属性之间相互独立，这个假设在实际应用中往往是不成立的，在属性个数比较多或者属性之间相关性较大时，分类效果不好。而在属性相关性较小时，朴素贝叶斯性能最为良好。对于这一点，有半朴素贝叶斯之类的算法通过考虑部分关联性适度改进。\n",
    "2. 需要知道先验概率，且先验概率很多时候取决于假设，假设的模型可以有很多种，因此在某些时候会由于假设的先验模型的原因导致预测效果不佳。\n",
    "3. 由于我们是通过先验和数据来决定后验的概率从而决定分类，所以分类决策存在一定的错误率。\n",
    "4. 对输入数据的表达形式很敏感。"
   ]
  },
  {
   "cell_type": "markdown",
   "metadata": {},
   "source": [
    "### 10. 参考文献\n",
    "西瓜书\n",
    "https://samanthachen.github.io/2016/08/05/%E6%9C%BA%E5%99%A8%E5%AD%A6%E4%B9%A0_%E5%91%A8%E5%BF%97%E5%8D%8E_%E7%AC%94%E8%AE%B07/\n",
    "\n",
    "https://www.jianshu.com/p/f1d3906e4a3e\n",
    "\n",
    "https://zhuanlan.zhihu.com/p/66117273\n",
    "\n",
    "https://zhuanlan.zhihu.com/p/39780650\n",
    "\n",
    "https://blog.csdn.net/zrh_CSDN/article/details/81007851"
   ]
  }
 ],
 "metadata": {
  "anaconda-cloud": {},
  "kernelspec": {
   "display_name": "Python 3",
   "language": "python",
   "name": "python3"
  },
  "language_info": {
   "codemirror_mode": {
    "name": "ipython",
    "version": 3
   },
   "file_extension": ".py",
   "mimetype": "text/x-python",
   "name": "python",
   "nbconvert_exporter": "python",
   "pygments_lexer": "ipython3",
   "version": "3.6.5"
  },
  "toc": {
   "base_numbering": 1,
   "nav_menu": {},
   "number_sections": true,
   "sideBar": true,
   "skip_h1_title": false,
   "title_cell": "Table of Contents",
   "title_sidebar": "Contents",
   "toc_cell": false,
   "toc_position": {},
   "toc_section_display": true,
   "toc_window_display": false
  }
 },
 "nbformat": 4,
 "nbformat_minor": 2
}
